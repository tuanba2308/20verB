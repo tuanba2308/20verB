{
{
  "nbformat": 4,
  "nbformat": 4,
  "nbformat_minor": 0,
  "nbformat_minor": 0,
  "metadata": {
  "metadata": {
    "colab": {
    "colab": {
      "name": "Sample [Image Process Ver B]_NSL_KDD_Pre_trained_Resnet18_True_ft_20Percent.ipynb",
      "name": "Sample [Image Process Ver B]_NSL_KDD_Pre_trained_Resnet18_True_ft_20Percent.ipynb",
      "provenance": [],
      "provenance": [],
      "collapsed_sections": [],
      "collapsed_sections": [],
      "toc_visible": true
      "toc_visible": true
    },
    },
    "kernelspec": {
    "kernelspec": {
      "name": "python3",
      "name": "python3",
      "display_name": "Python 3"
      "display_name": "Python 3"
    },
    },
    "accelerator": "GPU"
    "accelerator": "GPU"
  },
  },
  "cells": [
  "cells": [
    {
    {
      "cell_type": "markdown",
      "cell_type": "markdown",
      "metadata": {
      "metadata": {
        "id": "Z-4ieyqRTZIc",
        "id": "Z-4ieyqRTZIc",
        "colab_type": "text"
        "colab_type": "text"
      },
      },
      "source": [
      "source": [
        "# Description\n",
        "# Description\n",
        "\n",
        "\n",
        "Dataset: NSL-KDD (Train+ && Test+) using newest processing image method\n",
        "Dataset: NSL-KDD (Train+ && Test+) using newest processing image method\n",
        "\n",
        "\n",
        "Model: Resnet18\n",
        "Model: Resnet18\n",
        "\n",
        "\n",
        "Method: Finetuning the convnet\n",
        "Method: Finetuning the convnet\n",
        "\n",
        "\n",
        "Test case 1:\n",
        "Test case 1:\n",
        "  - Image size: 10x13\n",
        "  - Image size: 10x13\n",
        "  - Default setting\n",
        "  - Default setting\n",
        "\n",
        "\n",
        "[Tranfer Learning Tutorial](https://pytorch.org/tutorials/beginner/transfer_learning_tutorial.html)\n",
        "[Tranfer Learning Tutorial](https://pytorch.org/tutorials/beginner/transfer_learning_tutorial.html)\n",
        "\n",
        "\n",
        "[Link Colab of this file](https://colab.research.google.com/drive/126leoDf0tnL2y87dS2ClLPjcVqR7M1Qb)"
        "[Link Colab of this file](https://colab.research.google.com/drive/126leoDf0tnL2y87dS2ClLPjcVqR7M1Qb)"
      ]
      ]
    },
    },
    {
    {
      "cell_type": "markdown",
      "cell_type": "markdown",
      "metadata": {
      "metadata": {
        "id": "H_jzvM44T6C6",
        "id": "H_jzvM44T6C6",
        "colab_type": "text"
        "colab_type": "text"
      },
      },
      "source": [
      "source": [
        "# 1. Import zipped data"
        "# 1. Import zipped data"
      ]
      ]
    },
    },
    {
    {
      "cell_type": "code",
      "cell_type": "code",
      "metadata": {
      "metadata": {
        "id": "zcOHWIF8LCab",
        "id": "zcOHWIF8LCab",
        "colab_type": "code",
        "colab_type": "code",
        "colab": {}
        "colab": {}
      },
      },
      "source": [
      "source": [
        "from google.colab import drive\n",
        "from google.colab import drive\n",
        "drive.mount('/gdrive')"
        "drive.mount('/gdrive')"
      ],
      ],
      "execution_count": 0,
      "execution_count": 0,
      "outputs": []
      "outputs": []
    },
    },
    {
    {
      "cell_type": "code",
      "cell_type": "code",
      "metadata": {
      "metadata": {
        "id": "6Ht68N4Hc1yk",
        "id": "6Ht68N4Hc1yk",
        "colab_type": "code",
        "colab_type": "code",
        "colab": {}
        "colab": {}
      },
      },
      "source": [
      "source": [
        "#Zip file\n",
        "#Zip file\n",
        "train_path='/gdrive/My Drive/KLTN/NSL-KDD conv directly resize/KDDTrain+_20Percent.zip'\n",
        "train_path='/gdrive/My Drive/KLTN/NSL-KDD conv directly resize/KDDTrain+_20Percent.zip'\n",
        "val_path='/gdrive/My Drive/KLTN/NSL-KDD conv directly resize/KDDTest+.zip'\n",
        "val_path='/gdrive/My Drive/KLTN/NSL-KDD conv directly resize/KDDTest+.zip'\n",
        "import os\n",
        "import os\n",
        "import urllib.request\n",
        "import urllib.request\n",
        "import zipfile\n",
        "import zipfile\n",
        "import shutil\n"
        "import shutil\n"
      ],
      ],
      "execution_count": 0,
      "execution_count": 0,
      "outputs": []
      "outputs": []
    },
    },
    {
    {
      "cell_type": "code",
      "cell_type": "code",
      "metadata": {
      "metadata": {
        "id": "6AVWG-pruDH8",
        "id": "6AVWG-pruDH8",
        "colab_type": "code",
        "colab_type": "code",
        "colab": {}
        "colab": {}
      },
      },
      "source": [
      "source": [
        "%cd /gdrive\n",
        "%cd /gdrive\n",
        "%cd /\n",
        "%cd /\n",
        "if os.path.exists('/content/data'): shutil.rmtree('/content/data')\n",
        "if os.path.exists('/content/data'): shutil.rmtree('/content/data')\n",
        "zipfile.ZipFile(train_path).extractall()\n",
        "zipfile.ZipFile(train_path).extractall()\n",
        "#extracted folder: /content/NSL-KDD/data\n",
        "#extracted folder: /content/NSL-KDD/data\n",
        "zipfile.ZipFile(val_path).extractall()\n"
        "zipfile.ZipFile(val_path).extractall()\n"
      ],
      ],
      "execution_count": 0,
      "execution_count": 0,
      "outputs": []
      "outputs": []
    },
    },
    {
    {
      "cell_type": "code",
      "cell_type": "code",
      "metadata": {
      "metadata": {
        "id": "Ep8eOS59-OOS",
        "id": "Ep8eOS59-OOS",
        "colab_type": "code",
        "colab_type": "code",
        "colab": {}
        "colab": {}
      },
      },
      "source": [
      "source": [
        "os.rename('/content/data/KDDTest+','/content/data/val')\n",
        "os.rename('/content/data/KDDTest+','/content/data/val')\n",
        "os.rename('/content/data/KDDTrain+_20Percent','/content/data/train')"
        "os.rename('/content/data/KDDTrain+_20Percent','/content/data/train')"
      ],
      ],
      "execution_count": 0,
      "execution_count": 0,
      "outputs": []
      "outputs": []
    },
    },
    {
    {
      "cell_type": "markdown",
      "cell_type": "markdown",
      "metadata": {
      "metadata": {
        "id": "YzVebcfxdal3",
        "id": "YzVebcfxdal3",
        "colab_type": "text"
        "colab_type": "text"
      },
      },
      "source": [
      "source": [
        "# 2. Training"
        "# 2. Training"
      ]
      ]
    },
    },
    {
    {
      "cell_type": "code",
      "cell_type": "code",
      "metadata": {
      "metadata": {
        "id": "kJCPaWYodkNa",
        "id": "kJCPaWYodkNa",
        "colab_type": "code",
        "colab_type": "code",
        "colab": {}
        "colab": {}
      },
      },
      "source": [
      "source": [
        "data_dir = '/content/data'"
        "data_dir = '/content/data'"
      ],
      ],
      "execution_count": 0,
      "execution_count": 0,
      "outputs": []
      "outputs": []
    },
    },
    {
    {
      "cell_type": "code",
      "cell_type": "code",
      "metadata": {
      "metadata": {
        "id": "oCxpO7OlP3EJ",
        "id": "oCxpO7OlP3EJ",
        "colab_type": "code",
        "colab_type": "code",
        "colab": {}
        "colab": {}
      },
      },
      "source": [
      "source": [
        "%matplotlib inline"
        "%matplotlib inline"
      ],
      ],
      "execution_count": 0,
      "execution_count": 0,
      "outputs": []
      "outputs": []
    },
    },
    {
    {
      "cell_type": "code",
      "cell_type": "code",
      "metadata": {
      "metadata": {
        "id": "uL82tYRTQykm",
        "id": "uL82tYRTQykm",
        "colab_type": "code",
        "colab_type": "code",
        "colab": {}
        "colab": {}
      },
      },
      "source": [
      "source": [
        "# License: BSD\n",
        "# License: BSD\n",
        "# Author: Sasank Chilamkurthy\n",
        "# Author: Sasank Chilamkurthy\n",
        "\n",
        "\n",
        "from __future__ import print_function, division\n",
        "from __future__ import print_function, division\n",
        "\n",
        "\n",
        "import torch\n",
        "import torch\n",
        "import torch.nn as nn\n",
        "import torch.nn as nn\n",
        "import torch.optim as optim\n",
        "import torch.optim as optim\n",
        "from torch.optim import lr_scheduler\n",
        "from torch.optim import lr_scheduler\n",
        "import numpy as np\n",
        "import numpy as np\n",
        "import torchvision\n",
        "import torchvision\n",
        "from torchvision import datasets, models, transforms\n",
        "from torchvision import datasets, models, transforms\n",
        "import matplotlib.pyplot as plt\n",
        "import matplotlib.pyplot as plt\n",
        "import time\n",
        "import time\n",
        "import os\n",
        "import os\n",
        "import copy\n",
        "import copy\n",
        "\n",
        "\n",
        "plt.ion()   # interactive mode"
        "plt.ion()   # interactive mode"
      ],
      ],
      "execution_count": 0,
      "execution_count": 0,
      "outputs": []
      "outputs": []
    },
    },
    {
    {
      "cell_type": "code",
      "cell_type": "code",
      "metadata": {
      "metadata": {
        "id": "V9lLuRHHQ0Ju",
        "id": "V9lLuRHHQ0Ju",
        "colab_type": "code",
        "colab_type": "code",
        "colab": {}
        "colab": {}
      },
      },
      "source": [
      "source": [
        "# Data augmentation and normalization for training\n",
        "# Data augmentation and normalization for training\n",
        "# Just normalization for validation\n",
        "# Just normalization for validation\n",
        "data_transforms = {\n",
        "data_transforms = {\n",
        "    'train': transforms.Compose([\n",
        "    'train': transforms.Compose([\n",
        "        transforms.RandomResizedCrop(224),\n",
        "        transforms.RandomResizedCrop(224),\n",
        "        transforms.RandomHorizontalFlip(),\n",
        "        transforms.RandomHorizontalFlip(),\n",
        "        transforms.ToTensor(),\n",
        "        transforms.ToTensor(),\n",
        "        transforms.Normalize([0.485, 0.456, 0.406], [0.229, 0.224, 0.225])\n",
        "        transforms.Normalize([0.485, 0.456, 0.406], [0.229, 0.224, 0.225])\n",
        "    ]),\n",
        "    ]),\n",
        "    'val': transforms.Compose([\n",
        "    'val': transforms.Compose([\n",
        "        transforms.Resize(256),\n",
        "        transforms.Resize(256),\n",
        "        transforms.CenterCrop(224),\n",
        "        transforms.CenterCrop(224),\n",
        "        transforms.ToTensor(),\n",
        "        transforms.ToTensor(),\n",
        "        transforms.Normalize([0.485, 0.456, 0.406], [0.229, 0.224, 0.225])\n",
        "        transforms.Normalize([0.485, 0.456, 0.406], [0.229, 0.224, 0.225])\n",
        "    ]),\n",
        "    ]),\n",
        "}\n",
        "}\n",
        "\n",
        "\n",
        "\n",
        "\n",
        "image_datasets = {x: datasets.ImageFolder(os.path.join(data_dir, x),\n",
        "image_datasets = {x: datasets.ImageFolder(os.path.join(data_dir, x),\n",
        "                                          data_transforms[x])\n",
        "                                          data_transforms[x])\n",
        "                  for x in ['train', 'val']}\n",
        "                  for x in ['train', 'val']}\n",
        "dataloaders = {x: torch.utils.data.DataLoader(image_datasets[x], batch_size=4,\n",
        "dataloaders = {x: torch.utils.data.DataLoader(image_datasets[x], batch_size=4,\n",
        "                                             shuffle=True, num_workers=4)\n",
        "                                             shuffle=True, num_workers=4)\n",
        "              for x in ['train', 'val']}\n",
        "              for x in ['train', 'val']}\n",
        "dataset_sizes = {x: len(image_datasets[x]) for x in ['train', 'val']}\n",
        "dataset_sizes = {x: len(image_datasets[x]) for x in ['train', 'val']}\n",
        "class_names = image_datasets['train'].classes\n",
        "class_names = image_datasets['train'].classes\n",
        "\n",
        "\n",
        "device = torch.device(\"cuda:0\" if torch.cuda.is_available() else \"cpu\")\n",
        "device = torch.device(\"cuda:0\" if torch.cuda.is_available() else \"cpu\")\n",
        "print(device)"
        "print(device)"
      ],
      ],
      "execution_count": 0,
      "execution_count": 0,
      "outputs": []
      "outputs": []
    },
    },
    {
    {
      "cell_type": "code",
      "cell_type": "code",
      "metadata": {
      "metadata": {
        "id": "2D5x8FL5Q2nR",
        "id": "2D5x8FL5Q2nR",
        "colab_type": "code",
        "colab_type": "code",
        "colab": {}
        "colab": {}
      },
      },
      "source": [
      "source": [
        "def imshow(inp, title=None):\n",
        "def imshow(inp, title=None):\n",
        "    \"\"\"Imshow for Tensor.\"\"\"\n",
        "    \"\"\"Imshow for Tensor.\"\"\"\n",
        "    inp = inp.numpy().transpose((1, 2, 0))\n",
        "    inp = inp.numpy().transpose((1, 2, 0))\n",
        "    mean = np.array([0.485, 0.456, 0.406])\n",
        "    mean = np.array([0.485, 0.456, 0.406])\n",
        "    std = np.array([0.229, 0.224, 0.225])\n",
        "    std = np.array([0.229, 0.224, 0.225])\n",
        "    inp = std * inp + mean\n",
        "    inp = std * inp + mean\n",
        "    inp = np.clip(inp, 0, 1)\n",
        "    inp = np.clip(inp, 0, 1)\n",
        "    plt.imshow(inp)\n",
        "    plt.imshow(inp)\n",
        "    if title is not None:\n",
        "    if title is not None:\n",
        "        plt.title(title)\n",
        "        plt.title(title)\n",
        "    plt.pause(0.001)  # pause a bit so that plots are updated\n",
        "    plt.pause(0.001)  # pause a bit so that plots are updated\n",
        "\n",
        "\n",
        "\n",
        "\n",
        "# Get a batch of training data\n",
        "# Get a batch of training data\n",
        "inputs, classes = next(iter(dataloaders['train']))\n",
        "inputs, classes = next(iter(dataloaders['train']))\n",
        "\n",
        "\n",
        "# Make a grid from batch\n",
        "# Make a grid from batch\n",
        "out = torchvision.utils.make_grid(inputs)\n",
        "out = torchvision.utils.make_grid(inputs)\n",
        "\n",
        "\n",
        "imshow(out, title=[class_names[x] for x in classes])"
        "imshow(out, title=[class_names[x] for x in classes])"
      ],
      ],
      "execution_count": 0,
      "execution_count": 0,
      "outputs": []
      "outputs": []
    },
    },
    {
    {
      "cell_type": "code",
      "cell_type": "code",
      "metadata": {
      "metadata": {
        "id": "PWKuYkOLQ4OW",
        "id": "PWKuYkOLQ4OW",
        "colab_type": "code",
        "colab_type": "code",
        "colab": {}
        "colab": {}
      },
      },
      "source": [
      "source": [
        "def train_model(model, criterion, optimizer, scheduler, num_epochs=25):\n",
        "def train_model(model, criterion, optimizer, scheduler, num_epochs=25):\n",
        "    since = time.time()\n",
        "    since = time.time()\n",
        "\n",
        "\n",
        "    best_model_wts = copy.deepcopy(model.state_dict())\n",
        "    best_model_wts = copy.deepcopy(model.state_dict())\n",
        "    best_acc = 0.0\n",
        "    best_acc = 0.0\n",
        "\n",
        "\n",
        "    for epoch in range(num_epochs):\n",
        "    for epoch in range(num_epochs):\n",
        "        print('Epoch {}/{}'.format(epoch, num_epochs - 1))\n",
        "        print('Epoch {}/{}'.format(epoch, num_epochs - 1))\n",
        "        print('-' * 10)\n",
        "        print('-' * 10)\n",
        "\n",
        "\n",
        "        # Each epoch has a training and validation phase\n",
        "        # Each epoch has a training and validation phase\n",
        "        for phase in ['train', 'val']:\n",
        "        for phase in ['train', 'val']:\n",
        "            if phase == 'train':\n",
        "            if phase == 'train':\n",
        "                scheduler.step()\n",
        "                scheduler.step()\n",
        "                model.train()  # Set model to training mode\n",
        "                model.train()  # Set model to training mode\n",
        "            else:\n",
        "            else:\n",
        "                model.eval()   # Set model to evaluate mode\n",
        "                model.eval()   # Set model to evaluate mode\n",
        "\n",
        "\n",
        "            running_loss = 0.0\n",
        "            running_loss = 0.0\n",
        "            running_corrects = 0\n",
        "            running_corrects = 0\n",
        "\n",
        "\n",
        "            # Iterate over data.\n",
        "            # Iterate over data.\n",
        "            for inputs, labels in dataloaders[phase]:\n",
        "            for inputs, labels in dataloaders[phase]:\n",
        "                inputs = inputs.to(device)\n",
        "                inputs = inputs.to(device)\n",
        "                labels = labels.to(device)\n",
        "                labels = labels.to(device)\n",
        "\n",
        "\n",
        "                # zero the parameter gradients\n",
        "                # zero the parameter gradients\n",
        "                optimizer.zero_grad()\n",
        "                optimizer.zero_grad()\n",
        "\n",
        "\n",
        "                # forward\n",
        "                # forward\n",
        "                # track history if only in train\n",
        "                # track history if only in train\n",
        "                with torch.set_grad_enabled(phase == 'train'):\n",
        "                with torch.set_grad_enabled(phase == 'train'):\n",
        "                    outputs = model(inputs)\n",
        "                    outputs = model(inputs)\n",
        "                    _, preds = torch.max(outputs, 1)\n",
        "                    _, preds = torch.max(outputs, 1)\n",
        "                    loss = criterion(outputs, labels)\n",
        "                    loss = criterion(outputs, labels)\n",
        "\n",
        "\n",
        "                    # backward + optimize only if in training phase\n",
        "                    # backward + optimize only if in training phase\n",
        "                    if phase == 'train':\n",
        "                    if phase == 'train':\n",
        "                        loss.backward()\n",
        "                        loss.backward()\n",
        "                        optimizer.step()\n",
        "                        optimizer.step()\n",
        "\n",
        "\n",
        "                # statistics\n",
        "                # statistics\n",
        "                running_loss += loss.item() * inputs.size(0)\n",
        "                running_loss += loss.item() * inputs.size(0)\n",
        "                running_corrects += torch.sum(preds == labels.data)\n",
        "                running_corrects += torch.sum(preds == labels.data)\n",
        "\n",
        "\n",
        "            epoch_loss = running_loss / dataset_sizes[phase]\n",
        "            epoch_loss = running_loss / dataset_sizes[phase]\n",
        "            epoch_acc = running_corrects.double() / dataset_sizes[phase]\n",
        "            epoch_acc = running_corrects.double() / dataset_sizes[phase]\n",
        "\n",
        "\n",
        "            print('{} Loss: {:.4f} Acc: {:.4f}'.format(\n",
        "            print('{} Loss: {:.4f} Acc: {:.4f}'.format(\n",
        "                phase, epoch_loss, epoch_acc))\n",
        "                phase, epoch_loss, epoch_acc))\n",
        "\n",
        "\n",
        "            # deep copy the model\n",
        "            # deep copy the model\n",
        "            if phase == 'val' and epoch_acc > best_acc:\n",
        "            if phase == 'val' and epoch_acc > best_acc:\n",
        "                best_acc = epoch_acc\n",
        "                best_acc = epoch_acc\n",
        "                best_model_wts = copy.deepcopy(model.state_dict())\n",
        "                best_model_wts = copy.deepcopy(model.state_dict())\n",
        "\n",
        "\n",
        "        print()\n",
        "        print()\n",
        "\n",
        "\n",
        "    time_elapsed = time.time() - since\n",
        "    time_elapsed = time.time() - since\n",
        "    print('Training complete in {:.0f}m {:.0f}s'.format(\n",
        "    print('Training complete in {:.0f}m {:.0f}s'.format(\n",
        "        time_elapsed // 60, time_elapsed % 60))\n",
        "        time_elapsed // 60, time_elapsed % 60))\n",
        "    print('Best val Acc: {:4f}'.format(best_acc))\n",
        "    print('Best val Acc: {:4f}'.format(best_acc))\n",
        "\n",
        "\n",
        "    # load best model weights\n",
        "    # load best model weights\n",
        "    model.load_state_dict(best_model_wts)\n",
        "    model.load_state_dict(best_model_wts)\n",
        "    return model"
        "    return model"
      ],
      ],
      "execution_count": 0,
      "execution_count": 0,
      "outputs": []
      "outputs": []
    },
    },
    {
    {
      "cell_type": "code",
      "cell_type": "code",
      "metadata": {
      "metadata": {
        "id": "FP0xc8SZQ5i-",
        "id": "FP0xc8SZQ5i-",
        "colab_type": "code",
        "colab_type": "code",
        "colab": {}
        "colab": {}
      },
      },
      "source": [
      "source": [
        "def visualize_model(model, num_images=6):\n",
        "def visualize_model(model, num_images=6):\n",
        "    was_training = model.training\n",
        "    was_training = model.training\n",
        "    model.eval()\n",
        "    model.eval()\n",
        "    images_so_far = 0\n",
        "    images_so_far = 0\n",
        "    fig = plt.figure()\n",
        "    fig = plt.figure()\n",
        "\n",
        "\n",
        "    with torch.no_grad():\n",
        "    with torch.no_grad():\n",
        "        for i, (inputs, labels) in enumerate(dataloaders['val']):\n",
        "        for i, (inputs, labels) in enumerate(dataloaders['val']):\n",
        "            inputs = inputs.to(device)\n",
        "            inputs = inputs.to(device)\n",
        "            labels = labels.to(device)\n",
        "            labels = labels.to(device)\n",
        "\n",
        "\n",
        "            outputs = model(inputs)\n",
        "            outputs = model(inputs)\n",
        "            _, preds = torch.max(outputs, 1)\n",
        "            _, preds = torch.max(outputs, 1)\n",
        "\n",
        "\n",
        "            for j in range(inputs.size()[0]):\n",
        "            for j in range(inputs.size()[0]):\n",
        "                images_so_far += 1\n",
        "                images_so_far += 1\n",
        "                ax = plt.subplot(num_images//2, 2, images_so_far)\n",
        "                ax = plt.subplot(num_images//2, 2, images_so_far)\n",
        "                ax.axis('off')\n",
        "                ax.axis('off')\n",
        "                ax.set_title('predicted: {}'.format(class_names[preds[j]]))\n",
        "                ax.set_title('predicted: {}'.format(class_names[preds[j]]))\n",
        "                imshow(inputs.cpu().data[j])\n",
        "                imshow(inputs.cpu().data[j])\n",
        "\n",
        "\n",
        "                if images_so_far == num_images:\n",
        "                if images_so_far == num_images:\n",
        "                    model.train(mode=was_training)\n",
        "                    model.train(mode=was_training)\n",
        "                    return\n",
        "                    return\n",
        "        model.train(mode=was_training)"
        "        model.train(mode=was_training)"
      ],
      ],
      "execution_count": 0,
      "execution_count": 0,
      "outputs": []
      "outputs": []
    },
    },
    {
    {
      "cell_type": "code",
      "cell_type": "code",
      "metadata": {
      "metadata": {
        "id": "FDB_pl_4Q6VQ",
        "id": "FDB_pl_4Q6VQ",
        "colab_type": "code",
        "colab_type": "code",
        "colab": {}
        "colab": {}
      },
      },
      "source": [
      "source": [
        "model_ft = models.mnasnet1_0(pretrained=True)\n",
        "model_ft = models.resnet18(pretrained=True)\n",
        "num_ftrs = model_ft.fc.in_features\n",
        "num_ftrs = model_ft.fc.in_features\n",
        "model_ft.fc = nn.Linear(num_ftrs, 2)\n",
        "model_ft.fc = nn.Linear(num_ftrs, 2)\n",
        "\n",
        "\n",
        "model_ft = model_ft.to(device)\n",
        "model_ft = model_ft.to(device)\n",
        "\n",
        "\n",
        "criterion = nn.CrossEntropyLoss()\n",
        "criterion = nn.CrossEntropyLoss()\n",
        "\n",
        "\n",
        "# Observe that all parameters are being optimized\n",
        "# Observe that all parameters are being optimized\n",
        "optimizer_ft = optim.SGD(model_ft.parameters(), lr=0.001, momentum=0.9)\n",
        "optimizer_ft = optim.SGD(model_ft.parameters(), lr=0.001, momentum=0.9)\n",
        "\n",
        "\n",
        "# Decay LR by a factor of 0.1 every 7 epochs\n",
        "# Decay LR by a factor of 0.1 every 7 epochs\n",
        "exp_lr_scheduler = lr_scheduler.StepLR(optimizer_ft, step_size=7, gamma=0.1)"
        "exp_lr_scheduler = lr_scheduler.StepLR(optimizer_ft, step_size=7, gamma=0.1)"
      ],
      ],
      "execution_count": 0,
      "execution_count": 0,
      "outputs": []
      "outputs": []
    },
    },
    {
    {
      "cell_type": "code",
      "cell_type": "code",
      "metadata": {
      "metadata": {
        "id": "VYVfODxcQ71X",
        "id": "VYVfODxcQ71X",
        "colab_type": "code",
        "colab_type": "code",
        "colab": {}
        "colab": {}
      },
      },
      "source": [
      "source": [
        "model_ft = train_model(model_ft, criterion, optimizer_ft, exp_lr_scheduler,\n",
        "model_ft = train_model(model_ft, criterion, optimizer_ft, exp_lr_scheduler,\n",
        "                       num_epochs=25)"
        "                       num_epochs=25)"
      ],
      ],
      "execution_count": 0,
      "execution_count": 0,
      "outputs": []
      "outputs": []
    },
    },
    {
    {
      "cell_type": "code",
      "cell_type": "code",
      "metadata": {
      "metadata": {
        "id": "O3dAgumTQ9U0",
        "id": "O3dAgumTQ9U0",
        "colab_type": "code",
        "colab_type": "code",
        "colab": {}
        "colab": {}
      },
      },
      "source": [
      "source": [
        "visualize_model(model_ft)"
        "visualize_model(model_ft)"
      ],
      ],
      "execution_count": 0,
      "execution_count": 0,
      "outputs": []
      "outputs": []
    }
    }
  ]
  ]
}}